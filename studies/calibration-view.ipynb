{
 "cells": [
  {
   "cell_type": "code",
   "execution_count": 2,
   "id": "0524a638-2048-42ca-9b42-afa52fe4904f",
   "metadata": {},
   "outputs": [],
   "source": [
    "from config.settings import positions, linear_popt\n",
    "from config.plot_config import set_plot_style; set_plot_style()\n",
    "\n",
    "from utils.functions import linear"
   ]
  },
  {
   "cell_type": "code",
   "execution_count": 4,
   "id": "ac9ea64e-e37e-4ce7-9d7c-3a5387cd639b",
   "metadata": {},
   "outputs": [
    {
     "name": "stdout",
     "output_type": "stream",
     "text": [
      "5.211101542589574\n"
     ]
    }
   ],
   "source": [
    "low = linear(0, *linear_popt)\n",
    "high = linear(0.8, *linear_popt)\n",
    "err = high - low\n",
    "print(err)"
   ]
  },
  {
   "cell_type": "code",
   "execution_count": null,
   "id": "29b06ff2-fa9b-40f8-af9f-b585930428ae",
   "metadata": {},
   "outputs": [],
   "source": []
  }
 ],
 "metadata": {
  "kernelspec": {
   "display_name": "Python 3 (ipykernel)",
   "language": "python",
   "name": "python3"
  },
  "language_info": {
   "codemirror_mode": {
    "name": "ipython",
    "version": 3
   },
   "file_extension": ".py",
   "mimetype": "text/x-python",
   "name": "python",
   "nbconvert_exporter": "python",
   "pygments_lexer": "ipython3",
   "version": "3.13.2"
  }
 },
 "nbformat": 4,
 "nbformat_minor": 5
}
