{
 "cells": [
  {
   "cell_type": "code",
   "execution_count": 1,
   "id": "592d5cf9-33fd-414c-b1f5-d599f346c3fd",
   "metadata": {},
   "outputs": [],
   "source": [
    "import numpy as np\n",
    "import matplotlib.pyplot as plt"
   ]
  },
  {
   "cell_type": "code",
   "execution_count": 38,
   "id": "bcb717fd-efb1-4cee-8454-c985777742ba",
   "metadata": {},
   "outputs": [],
   "source": [
    "def transc(h0):\n",
    "    A = 68e-6\n",
    "    B = 2e-6\n",
    "    a = 0.285\n",
    "    b = 0.698\n",
    "\n",
    "    expression  = A * np.exp(-h0/a) + B * np.exp(-h0/b)\n",
    "\n",
    "    return expression"
   ]
  },
  {
   "cell_type": "code",
   "execution_count": 41,
   "id": "cbebf5ad-d14e-4b29-a273-ccca5136e130",
   "metadata": {},
   "outputs": [
    {
     "data": {
      "text/plain": [
       "np.float64(3.910007188085271e-06)"
      ]
     },
     "execution_count": 41,
     "metadata": {},
     "output_type": "execute_result"
    }
   ],
   "source": [
    "transc(0.860)"
   ]
  },
  {
   "cell_type": "code",
   "execution_count": 37,
   "id": "b90aaecb-40bd-49ae-9dfb-6e14e20197ae",
   "metadata": {},
   "outputs": [
    {
     "data": {
      "text/plain": [
       "np.float64(2.5288802197658342e-06)"
      ]
     },
     "execution_count": 37,
     "metadata": {},
     "output_type": "execute_result"
    }
   ],
   "source": [
    "transc(1)"
   ]
  },
  {
   "cell_type": "code",
   "execution_count": 21,
   "id": "b727617d-90f2-4bae-98fc-44742a8d9f14",
   "metadata": {},
   "outputs": [
    {
     "name": "stdout",
     "output_type": "stream",
     "text": [
      "2.5\n",
      "3.4329065407997403e-06\n",
      "\n",
      "2.5555555555555554\n",
      "3.2221593846999693e-06\n",
      "\n",
      "2.611111111111111\n",
      "3.025094837885045e-06\n",
      "\n",
      "2.6666666666666665\n",
      "2.8408012169872975e-06\n",
      "\n",
      "2.7222222222222223\n",
      "2.668428277035685e-06\n",
      "\n",
      "2.7777777777777777\n",
      "2.5071830511242817e-06\n",
      "\n",
      "2.8333333333333335\n",
      "2.3563259723707086e-06\n",
      "\n",
      "2.888888888888889\n",
      "2.215167258994143e-06\n",
      "\n",
      "2.9444444444444446\n",
      "2.08306354464483e-06\n",
      "\n",
      "3.0\n",
      "1.9594147373309064e-06\n",
      "\n"
     ]
    }
   ],
   "source": [
    "rd_arr = np.linspace(2.5, 3, 10)\n",
    "for rd in rd_arr:\n",
    "    print(rd)\n",
    "    print(transc(0.361 * rd))\n",
    "    print()"
   ]
  },
  {
   "cell_type": "code",
   "execution_count": 35,
   "id": "168e8df1-df00-40d8-9ae6-0298dc0da007",
   "metadata": {},
   "outputs": [
    {
     "name": "stdout",
     "output_type": "stream",
     "text": [
      "0.305\n",
      "4.871344395575978e-06\n",
      "\n",
      "0.30736842105263157\n",
      "4.775592394204555e-06\n",
      "\n",
      "0.30973684210526314\n",
      "4.681813543136191e-06\n",
      "\n",
      "0.3121052631578947\n",
      "4.589966312407791e-06\n",
      "\n",
      "0.3144736842105263\n",
      "4.500010054081558e-06\n",
      "\n",
      "0.31684210526315787\n",
      "4.4119049834416074e-06\n",
      "\n",
      "0.31921052631578944\n",
      "4.325612160592106e-06\n",
      "\n",
      "0.321578947368421\n",
      "4.241093472448268e-06\n",
      "\n",
      "0.3239473684210526\n",
      "4.158311615111899e-06\n",
      "\n",
      "0.3263157894736842\n",
      "4.077230076623213e-06\n",
      "\n",
      "0.3286842105263158\n",
      "3.997813120080919e-06\n",
      "\n",
      "0.3310526315789474\n",
      "3.920025767122675e-06\n",
      "\n",
      "0.33342105263157895\n",
      "3.843833781758259e-06\n",
      "\n",
      "0.3357894736842105\n",
      "3.769203654547863e-06\n",
      "\n",
      "0.3381578947368421\n",
      "3.6961025871181965e-06\n",
      "\n",
      "0.3405263157894737\n",
      "3.6244984770091184e-06\n",
      "\n",
      "0.34289473684210525\n",
      "3.5543599028438073e-06\n",
      "\n",
      "0.3452631578947368\n",
      "3.485656109815486e-06\n",
      "\n",
      "0.3476315789473684\n",
      "3.4183569954839977e-06\n",
      "\n",
      "0.35\n",
      "3.3524330958755726e-06\n",
      "\n"
     ]
    }
   ],
   "source": [
    "ob_arr = np.linspace(0.305, 0.350, 20)\n",
    "for ob in ob_arr:\n",
    "    print(ob)\n",
    "    print(transc(ob * 2.6))\n",
    "    print()"
   ]
  },
  {
   "cell_type": "code",
   "execution_count": null,
   "id": "7dffeeb8-5335-4dae-b5ce-6c79285807d3",
   "metadata": {},
   "outputs": [],
   "source": []
  }
 ],
 "metadata": {
  "kernelspec": {
   "display_name": "Python (sci-venv)",
   "language": "python",
   "name": "sci-venv"
  },
  "language_info": {
   "codemirror_mode": {
    "name": "ipython",
    "version": 3
   },
   "file_extension": ".py",
   "mimetype": "text/x-python",
   "name": "python",
   "nbconvert_exporter": "python",
   "pygments_lexer": "ipython3",
   "version": "3.13.1"
  }
 },
 "nbformat": 4,
 "nbformat_minor": 5
}
