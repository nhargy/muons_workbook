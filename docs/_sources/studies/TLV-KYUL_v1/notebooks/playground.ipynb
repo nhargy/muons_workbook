{
 "cells": [
  {
   "cell_type": "markdown",
   "id": "f1a7b640-abf0-4daa-bcc5-b81743060495",
   "metadata": {},
   "source": [
    "# Playground: KYUL_v1\n",
    "\n",
    "Testing ground for project development."
   ]
  },
  {
   "cell_type": "code",
   "execution_count": 1,
   "id": "b9b7255d-9bec-4851-9554-fc342252b97a",
   "metadata": {},
   "outputs": [],
   "source": [
    "from config.settings import LocalDataPath\n",
    "from models.waveform import Waveform"
   ]
  },
  {
   "cell_type": "code",
   "execution_count": 2,
   "id": "4bc82c11-dfaa-4ec0-8e99-788ab840f04c",
   "metadata": {},
   "outputs": [
    {
     "data": {
      "text/plain": [
       "'/home/hargy/Science/DataBox/Muons_Gesher_Data'"
      ]
     },
     "execution_count": 2,
     "metadata": {},
     "output_type": "execute_result"
    }
   ],
   "source": [
    "LocalDataPath"
   ]
  },
  {
   "cell_type": "code",
   "execution_count": null,
   "id": "ab5fa725-56e1-4318-9f6c-fd375340abfb",
   "metadata": {},
   "outputs": [],
   "source": []
  }
 ],
 "metadata": {
  "kernelspec": {
   "display_name": "Python 3 (ipykernel)",
   "language": "python",
   "name": "python3"
  },
  "language_info": {
   "codemirror_mode": {
    "name": "ipython",
    "version": 3
   },
   "file_extension": ".py",
   "mimetype": "text/x-python",
   "name": "python",
   "nbconvert_exporter": "python",
   "pygments_lexer": "ipython3",
   "version": "3.13.2"
  }
 },
 "nbformat": 4,
 "nbformat_minor": 5
}
